{
 "cells": [
  {
   "cell_type": "code",
   "execution_count": 1,
   "id": "fdc257aa-428d-4141-af54-b72f0cc014fd",
   "metadata": {},
   "outputs": [
    {
     "name": "stdout",
     "output_type": "stream",
     "text": [
      "[2, 3]\n"
     ]
    }
   ],
   "source": [
    "''' Q1. How do you comment code in Python? What are the different types of comments?'''\n",
    "\n",
    "''' Solution\n",
    "\n",
    "#main code <----- way of commenting\n",
    "#different types of comment\n",
    "#single line comment <-----\n",
    "\"\"\"multi line comment\"\"\" <-----\n",
    "\"\"\"\n",
    "\n",
    "\"\"\"Q2. What are variables in Python? How do you declare and assign values to variables?\"\"\"\n",
    "\n",
    "sol: interger , float, string ,long int, short int , list, turple, set, dictonary\n",
    " for example : interger --> int = a\n",
    "               string ----> str = \"PWSKILLS\"\n",
    "               float -----> f = 12.36\n",
    "               \n",
    "\"\"\"Q3. How do you convert one data type to another in Python?\"\"\"\n",
    " sol : to convert  one data type into another we use type casting\n",
    "      example: a = 15\n",
    "      a --> is an interger\n",
    "      str(a)\n",
    "      now it is a string\n",
    "\n",
    "Q4. How do you write and execute a Python script from the command line?\n",
    "\n",
    "Using the python Command\n",
    "To run Python scripts with the python command, you need to open a command-line and type in the word python, or python3 if you have both versions, followed by the path to your script, just like this:\n",
    "\n",
    "$ python3 hello.py\n",
    "Hello World!\n",
    "      \n",
    "Q5. Given a list my_list = [1, 2, 3, 4, 5], write the code to slice the list and obtain the sub-list [2, 3].'''\n",
    "#solution\n",
    "my_list = [1, 2, 3, 4, 5]\n",
    "new_list = [my_list[1],my_list[2]]\n",
    "print(new_list)"
   ]
  },
  {
   "cell_type": "code",
   "execution_count": 3,
   "id": "c186cb2a-9284-4436-bf56-fd9530251f59",
   "metadata": {},
   "outputs": [
    {
     "data": {
      "text/plain": [
       "complex"
      ]
     },
     "execution_count": 3,
     "metadata": {},
     "output_type": "execute_result"
    }
   ],
   "source": [
    "''' Q6. What is a complex number in mathematics, and how is it represented in Python?\n",
    "\n",
    "sol: A complex number in maths is a combination of both real and imaginary number.\n",
    "in python it is shown as follow'''\n",
    "\n",
    "a = 3+6j #3 is real and 6j is imaginary\n",
    "type(a)\n"
   ]
  },
  {
   "cell_type": "code",
   "execution_count": 4,
   "id": "4dac2724-ba1c-4282-8e2f-38a45363a084",
   "metadata": {},
   "outputs": [
    {
     "name": "stdout",
     "output_type": "stream",
     "text": [
      "25\n"
     ]
    }
   ],
   "source": [
    "'''Q7. What is the correct way to declare a variable named age and assign the value 25 to it?'''\n",
    "#solution\n",
    "age = 25\n",
    "print(age)"
   ]
  },
  {
   "cell_type": "code",
   "execution_count": 5,
   "id": "7d4b47b9-5a17-46de-93de-1a6adeba128a",
   "metadata": {},
   "outputs": [
    {
     "data": {
      "text/plain": [
       "float"
      ]
     },
     "execution_count": 5,
     "metadata": {},
     "output_type": "execute_result"
    }
   ],
   "source": [
    "'''Q8. Declare a variable named price and assign the value 9.99 to it. What data type does this variable\n",
    "belong to?'''\n",
    "#solution\n",
    "price = 9.99\n",
    "type(price)\n"
   ]
  },
  {
   "cell_type": "code",
   "execution_count": 6,
   "id": "d0c5a883-eaa5-4f26-ab2a-519ce56cc1aa",
   "metadata": {},
   "outputs": [
    {
     "name": "stdout",
     "output_type": "stream",
     "text": [
      "Gourav\n"
     ]
    }
   ],
   "source": [
    "'''Q9. Create a variable named name and assign your full name to it as a string. How would you print the\n",
    "value of this variable?'''\n",
    "#solution\n",
    "\n",
    "name = \"Gourav\"\n",
    "print(name)"
   ]
  },
  {
   "cell_type": "code",
   "execution_count": 7,
   "id": "967f3d4d-9be8-4406-a18a-34879477a914",
   "metadata": {},
   "outputs": [
    {
     "name": "stdout",
     "output_type": "stream",
     "text": [
      " World\n"
     ]
    }
   ],
   "source": [
    "'''Q10. Given the string \"Hello, World!\", extract the substring \"World\".'''\n",
    "#solution\n",
    "\n",
    "string = \"Hello, World\"\n",
    "print(string[6: :])"
   ]
  },
  {
   "cell_type": "code",
   "execution_count": null,
   "id": "59f0b6e5-42a6-42f1-a909-f94cbfb22d2b",
   "metadata": {},
   "outputs": [],
   "source": []
  },
  {
   "cell_type": "code",
   "execution_count": 9,
   "id": "a05a95c9-6655-4a93-b9e5-8dcf1466754d",
   "metadata": {},
   "outputs": [
    {
     "name": "stdin",
     "output_type": "stream",
     "text": [
      "Enter your age: \n",
      " 21\n",
      "are you a student or working: \n",
      " working\n"
     ]
    },
    {
     "name": "stdout",
     "output_type": "stream",
     "text": [
      "you are not a student\n"
     ]
    }
   ],
   "source": [
    "'''Q11. Create a variable named \"is_student\" and assign it a boolean value indicating whether you are\n",
    "currently a student or not.'''\n",
    "#solution\n",
    "\n",
    "is_student = True\n",
    "\n",
    "age = int(input(\"Enter your age: \\n\"))\n",
    "designation = input(\"are you a student or working: \\n\")\n",
    "\n",
    "if (age >= 21 and designation != \"student\"):\n",
    "    print(\"you are not a student\")\n",
    "else : print(\"You are a student\",is_student)\n"
   ]
  },
  {
   "cell_type": "code",
   "execution_count": null,
   "id": "6138bbaa-3887-4564-911f-2fc856af80a5",
   "metadata": {},
   "outputs": [],
   "source": []
  }
 ],
 "metadata": {
  "kernelspec": {
   "display_name": "Python 3 (ipykernel)",
   "language": "python",
   "name": "python3"
  },
  "language_info": {
   "codemirror_mode": {
    "name": "ipython",
    "version": 3
   },
   "file_extension": ".py",
   "mimetype": "text/x-python",
   "name": "python",
   "nbconvert_exporter": "python",
   "pygments_lexer": "ipython3",
   "version": "3.10.8"
  }
 },
 "nbformat": 4,
 "nbformat_minor": 5
}
