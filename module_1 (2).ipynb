{
 "cells": [
  {
   "cell_type": "code",
   "execution_count": 1,
   "id": "770b2db9-d9d1-409e-9afa-c9c3d44ed3b8",
   "metadata": {},
   "outputs": [
    {
     "name": "stdout",
     "output_type": "stream",
     "text": [
      "1\n"
     ]
    }
   ],
   "source": [
    "a = 1\n",
    "print(a)"
   ]
  },
  {
   "cell_type": "code",
   "execution_count": 2,
   "id": "9fb5d017-1979-42ae-82ea-2c6d2f534eb8",
   "metadata": {},
   "outputs": [
    {
     "name": "stdout",
     "output_type": "stream",
     "text": [
      "1\n"
     ]
    }
   ],
   "source": [
    "a = 1\n",
    "print(a)"
   ]
  },
  {
   "cell_type": "code",
   "execution_count": 3,
   "id": "f7cbff78-4982-4491-81b1-859ce4628edf",
   "metadata": {},
   "outputs": [
    {
     "name": "stdout",
     "output_type": "stream",
     "text": [
      "<class 'str'>\n",
      "<class 'list'>\n",
      "<class 'float'>\n",
      "<class 'tuple'>\n"
     ]
    }
   ],
   "source": [
    "#  Q1. Create one variable containing following type of data:\n",
    "#   (i) string\n",
    "#   (ii) list\n",
    "#   (iii) float\n",
    "#   (iv) tuple \n",
    "\n",
    "a = \"Gourav\"\n",
    "b = [1,2,3,a,(3+9j)]\n",
    "c = 19.23\n",
    "d = (1.0, 9.9, 10)\n",
    "print(type(a))\n",
    "print(type(b))\n",
    "print(type(c))\n",
    "print(type(d))"
   ]
  },
  {
   "cell_type": "code",
   "execution_count": 8,
   "id": "b3ac36d4-f9c2-47fe-9d78-777032028074",
   "metadata": {},
   "outputs": [
    {
     "name": "stdout",
     "output_type": "stream",
     "text": [
      "<class 'str'>\n",
      "<class 'str'>\n",
      "<class 'list'>\n",
      "<class 'float'>\n"
     ]
    }
   ],
   "source": [
    "# Q2. Given are some following variables containing data:\n",
    "# (i) var1 = ‘ ‘\n",
    "# (ii) var2 = ‘[ DS , ML , Python]’\n",
    "# (iii) var3 = [ ‘DS’ , ’ML’ , ‘Python’ ]\n",
    "# (iv) var4 = 1.\n",
    "\n",
    "# What will be the data type of the above given variable.\n",
    "\n",
    "var1 = ' '\n",
    "var2 = '[ DS , ML , Python]'\n",
    "var3 = [ 'DS' , 'ML' , 'Python' ]\n",
    "var4 = 1.\n",
    "\n",
    "print(type(var1))\n",
    "print(type(var2))\n",
    "print(type(var3))\n",
    "print(type(var4))"
   ]
  },
  {
   "cell_type": "code",
   "execution_count": 14,
   "id": "6db46249-cb1c-402c-befc-a714bd41e61e",
   "metadata": {},
   "outputs": [
    {
     "name": "stdout",
     "output_type": "stream",
     "text": [
      "division =  2.0\n",
      "remainder =  1\n",
      "quotient =  2\n",
      "100\n"
     ]
    }
   ],
   "source": [
    "# Q3. Explain the use of the following operators using an example:\n",
    "# (i) /\n",
    "# (ii) %\n",
    "# (iii) //\n",
    "# (iv) **\n",
    "\n",
    "# (i) use of \"/\" operator for division\n",
    "\n",
    "a = 5\n",
    "b = 10\n",
    "print (\"division = \",b/a)\n",
    "\n",
    "# (ii) use of \"%\" operator for getting the remainder of a division\n",
    "\n",
    "print(\"remainder = \",3%2)\n",
    "\n",
    "# (iii) use of \"//\" operator for getting the value of quotient\n",
    "\n",
    "print(\"quotient = \", 5//2)\n",
    "\n",
    "# (iv) use of \"**\" for power operation\n",
    "a = 10\n",
    "print(a**2)\n",
    "\n"
   ]
  },
  {
   "cell_type": "code",
   "execution_count": 15,
   "id": "0ceeb6ae-3055-4557-a401-15fbc3fe69a1",
   "metadata": {},
   "outputs": [
    {
     "name": "stdout",
     "output_type": "stream",
     "text": [
      "element = 1\n",
      "type = <class 'int'>\n",
      "element = 5\n",
      "type = <class 'int'>\n",
      "element = 6\n",
      "type = <class 'int'>\n",
      "element = 4\n",
      "type = <class 'int'>\n",
      "element = (3+7j)\n",
      "type = <class 'complex'>\n",
      "element = Gourav\n",
      "type = <class 'str'>\n",
      "element = 12.9\n",
      "type = <class 'float'>\n",
      "element = a\n",
      "type = <class 'str'>\n",
      "element = 3\n",
      "type = <class 'int'>\n",
      "end\n"
     ]
    }
   ],
   "source": [
    "# Q4. Create a list of length 10 of your choice containing multiple types of data. Using for loop print the element and its data type.\n",
    "\n",
    "l = [1,5,6,4,(3+7j),\"Gourav\",12.9,\"a\",3]\n",
    "for i in range(0,9):\n",
    "    print(\"element =\",l[i])\n",
    "    print(\"type =\",type(l[i]))\n",
    "else:\n",
    "    print(\"end\")"
   ]
  },
  {
   "cell_type": "code",
   "execution_count": null,
   "id": "4de54a18-79d0-431e-97a1-db7ae9f7e636",
   "metadata": {},
   "outputs": [],
   "source": [
    "# Q5. Using a while loop, verify if the number A is purely divisible by number B and if so then how many times it can be divisible.\n",
    "\n"
   ]
  }
 ],
 "metadata": {
  "kernelspec": {
   "display_name": "Python 3 (ipykernel)",
   "language": "python",
   "name": "python3"
  },
  "language_info": {
   "codemirror_mode": {
    "name": "ipython",
    "version": 3
   },
   "file_extension": ".py",
   "mimetype": "text/x-python",
   "name": "python",
   "nbconvert_exporter": "python",
   "pygments_lexer": "ipython3",
   "version": "3.10.8"
  }
 },
 "nbformat": 4,
 "nbformat_minor": 5
}
